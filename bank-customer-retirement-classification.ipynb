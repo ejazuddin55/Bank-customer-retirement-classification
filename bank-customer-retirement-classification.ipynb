{
 "cells": [
  {
   "cell_type": "code",
   "execution_count": 1,
   "id": "6c8ff4cd",
   "metadata": {
    "_cell_guid": "b1076dfc-b9ad-4769-8c92-a6c4dae69d19",
    "_uuid": "8f2839f25d086af736a60e9eeb907d3b93b6e0e5",
    "execution": {
     "iopub.execute_input": "2021-11-22T15:15:15.566271Z",
     "iopub.status.busy": "2021-11-22T15:15:15.565318Z",
     "iopub.status.idle": "2021-11-22T15:15:15.585514Z",
     "shell.execute_reply": "2021-11-22T15:15:15.586105Z",
     "shell.execute_reply.started": "2021-11-22T15:12:21.017993Z"
    },
    "papermill": {
     "duration": 0.047173,
     "end_time": "2021-11-22T15:15:15.586422",
     "exception": false,
     "start_time": "2021-11-22T15:15:15.539249",
     "status": "completed"
    },
    "tags": []
   },
   "outputs": [
    {
     "name": "stdout",
     "output_type": "stream",
     "text": [
      "/kaggle/input/bank-customer-retirement/Bank_Customer_retirement.csv\n"
     ]
    }
   ],
   "source": [
    "# This Python 3 environment comes with many helpful analytics libraries installed\n",
    "# It is defined by the kaggle/python Docker image: https://github.com/kaggle/docker-python\n",
    "# For example, here's several helpful packages to load\n",
    "\n",
    "import numpy as np # linear algebra\n",
    "import pandas as pd # data processing, CSV file I/O (e.g. pd.read_csv)\n",
    "\n",
    "# Input data files are available in the read-only \"../input/\" directory\n",
    "# For example, running this (by clicking run or pressing Shift+Enter) will list all files under the input directory\n",
    "\n",
    "import os\n",
    "for dirname, _, filenames in os.walk('/kaggle/input'):\n",
    "    for filename in filenames:\n",
    "        print(os.path.join(dirname, filename))\n",
    "\n",
    "# You can write up to 20GB to the current directory (/kaggle/working/) that gets preserved as output when you create a version using \"Save & Run All\" \n",
    "# You can also write temporary files to /kaggle/temp/, but they won't be saved outside of the current session"
   ]
  },
  {
   "cell_type": "code",
   "execution_count": 2,
   "id": "da589936",
   "metadata": {
    "execution": {
     "iopub.execute_input": "2021-11-22T15:15:15.622880Z",
     "iopub.status.busy": "2021-11-22T15:15:15.621968Z",
     "iopub.status.idle": "2021-11-22T15:15:16.575751Z",
     "shell.execute_reply": "2021-11-22T15:15:16.576291Z",
     "shell.execute_reply.started": "2021-11-22T15:12:21.052840Z"
    },
    "papermill": {
     "duration": 0.973418,
     "end_time": "2021-11-22T15:15:16.576489",
     "exception": false,
     "start_time": "2021-11-22T15:15:15.603071",
     "status": "completed"
    },
    "tags": []
   },
   "outputs": [],
   "source": [
    "import seaborn as sns \n",
    "import matplotlib.pyplot as plt"
   ]
  },
  {
   "cell_type": "markdown",
   "id": "9ba60f37",
   "metadata": {
    "papermill": {
     "duration": 0.016236,
     "end_time": "2021-11-22T15:15:16.611307",
     "exception": false,
     "start_time": "2021-11-22T15:15:16.595071",
     "status": "completed"
    },
    "tags": []
   },
   "source": [
    "**import dataset **"
   ]
  },
  {
   "cell_type": "code",
   "execution_count": 3,
   "id": "fb1515e0",
   "metadata": {
    "execution": {
     "iopub.execute_input": "2021-11-22T15:15:16.649257Z",
     "iopub.status.busy": "2021-11-22T15:15:16.647347Z",
     "iopub.status.idle": "2021-11-22T15:15:16.686064Z",
     "shell.execute_reply": "2021-11-22T15:15:16.685504Z",
     "shell.execute_reply.started": "2021-11-22T15:12:21.919754Z"
    },
    "papermill": {
     "duration": 0.058566,
     "end_time": "2021-11-22T15:15:16.686237",
     "exception": false,
     "start_time": "2021-11-22T15:15:16.627671",
     "status": "completed"
    },
    "tags": []
   },
   "outputs": [
    {
     "data": {
      "text/html": [
       "<div>\n",
       "<style scoped>\n",
       "    .dataframe tbody tr th:only-of-type {\n",
       "        vertical-align: middle;\n",
       "    }\n",
       "\n",
       "    .dataframe tbody tr th {\n",
       "        vertical-align: top;\n",
       "    }\n",
       "\n",
       "    .dataframe thead th {\n",
       "        text-align: right;\n",
       "    }\n",
       "</style>\n",
       "<table border=\"1\" class=\"dataframe\">\n",
       "  <thead>\n",
       "    <tr style=\"text-align: right;\">\n",
       "      <th></th>\n",
       "      <th>Customer ID</th>\n",
       "      <th>Age</th>\n",
       "      <th>401K Savings</th>\n",
       "      <th>Retire</th>\n",
       "    </tr>\n",
       "  </thead>\n",
       "  <tbody>\n",
       "    <tr>\n",
       "      <th>0</th>\n",
       "      <td>0</td>\n",
       "      <td>39.180417</td>\n",
       "      <td>322349.8740</td>\n",
       "      <td>0</td>\n",
       "    </tr>\n",
       "    <tr>\n",
       "      <th>1</th>\n",
       "      <td>1</td>\n",
       "      <td>56.101686</td>\n",
       "      <td>768671.5740</td>\n",
       "      <td>1</td>\n",
       "    </tr>\n",
       "    <tr>\n",
       "      <th>2</th>\n",
       "      <td>2</td>\n",
       "      <td>57.023043</td>\n",
       "      <td>821505.4718</td>\n",
       "      <td>1</td>\n",
       "    </tr>\n",
       "    <tr>\n",
       "      <th>3</th>\n",
       "      <td>3</td>\n",
       "      <td>43.711358</td>\n",
       "      <td>494187.4850</td>\n",
       "      <td>0</td>\n",
       "    </tr>\n",
       "    <tr>\n",
       "      <th>4</th>\n",
       "      <td>4</td>\n",
       "      <td>54.728823</td>\n",
       "      <td>691435.7723</td>\n",
       "      <td>1</td>\n",
       "    </tr>\n",
       "    <tr>\n",
       "      <th>...</th>\n",
       "      <td>...</td>\n",
       "      <td>...</td>\n",
       "      <td>...</td>\n",
       "      <td>...</td>\n",
       "    </tr>\n",
       "    <tr>\n",
       "      <th>495</th>\n",
       "      <td>495</td>\n",
       "      <td>46.678128</td>\n",
       "      <td>704243.0776</td>\n",
       "      <td>1</td>\n",
       "    </tr>\n",
       "    <tr>\n",
       "      <th>496</th>\n",
       "      <td>496</td>\n",
       "      <td>43.545007</td>\n",
       "      <td>483175.9998</td>\n",
       "      <td>0</td>\n",
       "    </tr>\n",
       "    <tr>\n",
       "      <th>497</th>\n",
       "      <td>497</td>\n",
       "      <td>46.476724</td>\n",
       "      <td>354919.1987</td>\n",
       "      <td>0</td>\n",
       "    </tr>\n",
       "    <tr>\n",
       "      <th>498</th>\n",
       "      <td>498</td>\n",
       "      <td>50.903631</td>\n",
       "      <td>639789.9219</td>\n",
       "      <td>1</td>\n",
       "    </tr>\n",
       "    <tr>\n",
       "      <th>499</th>\n",
       "      <td>499</td>\n",
       "      <td>38.590586</td>\n",
       "      <td>491310.0096</td>\n",
       "      <td>0</td>\n",
       "    </tr>\n",
       "  </tbody>\n",
       "</table>\n",
       "<p>500 rows × 4 columns</p>\n",
       "</div>"
      ],
      "text/plain": [
       "     Customer ID        Age  401K Savings  Retire\n",
       "0              0  39.180417   322349.8740       0\n",
       "1              1  56.101686   768671.5740       1\n",
       "2              2  57.023043   821505.4718       1\n",
       "3              3  43.711358   494187.4850       0\n",
       "4              4  54.728823   691435.7723       1\n",
       "..           ...        ...           ...     ...\n",
       "495          495  46.678128   704243.0776       1\n",
       "496          496  43.545007   483175.9998       0\n",
       "497          497  46.476724   354919.1987       0\n",
       "498          498  50.903631   639789.9219       1\n",
       "499          499  38.590586   491310.0096       0\n",
       "\n",
       "[500 rows x 4 columns]"
      ]
     },
     "execution_count": 3,
     "metadata": {},
     "output_type": "execute_result"
    }
   ],
   "source": [
    "bank_df = pd.read_csv(\"../input/bank-customer-retirement/Bank_Customer_retirement.csv\")\n",
    "bank_df"
   ]
  },
  {
   "cell_type": "code",
   "execution_count": 4,
   "id": "e63aa801",
   "metadata": {
    "execution": {
     "iopub.execute_input": "2021-11-22T15:15:16.726139Z",
     "iopub.status.busy": "2021-11-22T15:15:16.725453Z",
     "iopub.status.idle": "2021-11-22T15:15:16.728448Z",
     "shell.execute_reply": "2021-11-22T15:15:16.729064Z",
     "shell.execute_reply.started": "2021-11-22T15:12:21.955436Z"
    },
    "papermill": {
     "duration": 0.026178,
     "end_time": "2021-11-22T15:15:16.729267",
     "exception": false,
     "start_time": "2021-11-22T15:15:16.703089",
     "status": "completed"
    },
    "tags": []
   },
   "outputs": [
    {
     "data": {
      "text/plain": [
       "Index(['Customer ID', 'Age', '401K Savings', 'Retire'], dtype='object')"
      ]
     },
     "execution_count": 4,
     "metadata": {},
     "output_type": "execute_result"
    }
   ],
   "source": [
    "bank_df.keys()\n"
   ]
  },
  {
   "cell_type": "markdown",
   "id": "8a5a274d",
   "metadata": {
    "papermill": {
     "duration": 0.016475,
     "end_time": "2021-11-22T15:15:16.762620",
     "exception": false,
     "start_time": "2021-11-22T15:15:16.746145",
     "status": "completed"
    },
    "tags": []
   },
   "source": [
    "**Visualize the data **"
   ]
  },
  {
   "cell_type": "code",
   "execution_count": 5,
   "id": "4e0dd7d7",
   "metadata": {
    "execution": {
     "iopub.execute_input": "2021-11-22T15:15:16.800047Z",
     "iopub.status.busy": "2021-11-22T15:15:16.799363Z",
     "iopub.status.idle": "2021-11-22T15:15:18.464311Z",
     "shell.execute_reply": "2021-11-22T15:15:18.464808Z",
     "shell.execute_reply.started": "2021-11-22T15:12:21.964543Z"
    },
    "papermill": {
     "duration": 1.685563,
     "end_time": "2021-11-22T15:15:18.465001",
     "exception": false,
     "start_time": "2021-11-22T15:15:16.779438",
     "status": "completed"
    },
    "tags": []
   },
   "outputs": [
    {
     "data": {
      "text/plain": [
       "<seaborn.axisgrid.PairGrid at 0x7f97bd37c710>"
      ]
     },
     "execution_count": 5,
     "metadata": {},
     "output_type": "execute_result"
    },
    {
     "data": {
      "image/png": "[encoded data removed]",
      "text/plain": [
       "<Figure size 402.375x360 with 6 Axes>"
      ]
     },
     "metadata": {
      "needs_background": "light"
     },
     "output_type": "display_data"
    }
   ],
   "source": [
    "sns.pairplot(bank_df, hue= 'Retire' , vars =['Age','401K Savings'])"
   ]
  },
  {
   "cell_type": "code",
   "execution_count": 6,
   "id": "15897fca",
   "metadata": {
    "execution": {
     "iopub.execute_input": "2021-11-22T15:15:18.507692Z",
     "iopub.status.busy": "2021-11-22T15:15:18.507052Z",
     "iopub.status.idle": "2021-11-22T15:15:18.689766Z",
     "shell.execute_reply": "2021-11-22T15:15:18.690329Z",
     "shell.execute_reply.started": "2021-11-22T15:12:23.469189Z"
    },
    "papermill": {
     "duration": 0.206189,
     "end_time": "2021-11-22T15:15:18.690568",
     "exception": false,
     "start_time": "2021-11-22T15:15:18.484379",
     "status": "completed"
    },
    "tags": []
   },
   "outputs": [
    {
     "name": "stderr",
     "output_type": "stream",
     "text": [
      "/opt/conda/lib/python3.7/site-packages/seaborn/_decorators.py:43: FutureWarning: Pass the following variable as a keyword arg: x. From version 0.12, the only valid positional argument will be `data`, and passing other arguments without an explicit keyword will result in an error or misinterpretation.\n",
      "  FutureWarning\n"
     ]
    },
    {
     "data": {
      "text/plain": [
       "<AxesSubplot:xlabel='Retire', ylabel='count'>"
      ]
     },
     "execution_count": 6,
     "metadata": {},
     "output_type": "execute_result"
    },
    {
     "data": {
      "image/png": "[encoded data removed]",
      "text/plain": [
       "<Figure size 432x288 with 1 Axes>"
      ]
     },
     "metadata": {
      "needs_background": "light"
     },
     "output_type": "display_data"
    }
   ],
   "source": [
    "sns.countplot(bank_df['Retire'],label = 'Retirement')"
   ]
  },
  {
   "cell_type": "markdown",
   "id": "63693396",
   "metadata": {
    "papermill": {
     "duration": 0.021441,
     "end_time": "2021-11-22T15:15:18.734115",
     "exception": false,
     "start_time": "2021-11-22T15:15:18.712674",
     "status": "completed"
    },
    "tags": []
   },
   "source": [
    "**Model Training**"
   ]
  },
  {
   "cell_type": "code",
   "execution_count": 7,
   "id": "dec546f2",
   "metadata": {
    "execution": {
     "iopub.execute_input": "2021-11-22T15:15:18.791904Z",
     "iopub.status.busy": "2021-11-22T15:15:18.790961Z",
     "iopub.status.idle": "2021-11-22T15:15:18.795803Z",
     "shell.execute_reply": "2021-11-22T15:15:18.795278Z",
     "shell.execute_reply.started": "2021-11-22T15:12:23.637003Z"
    },
    "papermill": {
     "duration": 0.040386,
     "end_time": "2021-11-22T15:15:18.796003",
     "exception": false,
     "start_time": "2021-11-22T15:15:18.755617",
     "status": "completed"
    },
    "tags": []
   },
   "outputs": [
    {
     "data": {
      "text/html": [
       "<div>\n",
       "<style scoped>\n",
       "    .dataframe tbody tr th:only-of-type {\n",
       "        vertical-align: middle;\n",
       "    }\n",
       "\n",
       "    .dataframe tbody tr th {\n",
       "        vertical-align: top;\n",
       "    }\n",
       "\n",
       "    .dataframe thead th {\n",
       "        text-align: right;\n",
       "    }\n",
       "</style>\n",
       "<table border=\"1\" class=\"dataframe\">\n",
       "  <thead>\n",
       "    <tr style=\"text-align: right;\">\n",
       "      <th></th>\n",
       "      <th>Age</th>\n",
       "      <th>401K Savings</th>\n",
       "      <th>Retire</th>\n",
       "    </tr>\n",
       "  </thead>\n",
       "  <tbody>\n",
       "    <tr>\n",
       "      <th>0</th>\n",
       "      <td>39.180417</td>\n",
       "      <td>322349.8740</td>\n",
       "      <td>0</td>\n",
       "    </tr>\n",
       "    <tr>\n",
       "      <th>1</th>\n",
       "      <td>56.101686</td>\n",
       "      <td>768671.5740</td>\n",
       "      <td>1</td>\n",
       "    </tr>\n",
       "    <tr>\n",
       "      <th>2</th>\n",
       "      <td>57.023043</td>\n",
       "      <td>821505.4718</td>\n",
       "      <td>1</td>\n",
       "    </tr>\n",
       "    <tr>\n",
       "      <th>3</th>\n",
       "      <td>43.711358</td>\n",
       "      <td>494187.4850</td>\n",
       "      <td>0</td>\n",
       "    </tr>\n",
       "    <tr>\n",
       "      <th>4</th>\n",
       "      <td>54.728823</td>\n",
       "      <td>691435.7723</td>\n",
       "      <td>1</td>\n",
       "    </tr>\n",
       "    <tr>\n",
       "      <th>...</th>\n",
       "      <td>...</td>\n",
       "      <td>...</td>\n",
       "      <td>...</td>\n",
       "    </tr>\n",
       "    <tr>\n",
       "      <th>495</th>\n",
       "      <td>46.678128</td>\n",
       "      <td>704243.0776</td>\n",
       "      <td>1</td>\n",
       "    </tr>\n",
       "    <tr>\n",
       "      <th>496</th>\n",
       "      <td>43.545007</td>\n",
       "      <td>483175.9998</td>\n",
       "      <td>0</td>\n",
       "    </tr>\n",
       "    <tr>\n",
       "      <th>497</th>\n",
       "      <td>46.476724</td>\n",
       "      <td>354919.1987</td>\n",
       "      <td>0</td>\n",
       "    </tr>\n",
       "    <tr>\n",
       "      <th>498</th>\n",
       "      <td>50.903631</td>\n",
       "      <td>639789.9219</td>\n",
       "      <td>1</td>\n",
       "    </tr>\n",
       "    <tr>\n",
       "      <th>499</th>\n",
       "      <td>38.590586</td>\n",
       "      <td>491310.0096</td>\n",
       "      <td>0</td>\n",
       "    </tr>\n",
       "  </tbody>\n",
       "</table>\n",
       "<p>500 rows × 3 columns</p>\n",
       "</div>"
      ],
      "text/plain": [
       "           Age  401K Savings  Retire\n",
       "0    39.180417   322349.8740       0\n",
       "1    56.101686   768671.5740       1\n",
       "2    57.023043   821505.4718       1\n",
       "3    43.711358   494187.4850       0\n",
       "4    54.728823   691435.7723       1\n",
       "..         ...           ...     ...\n",
       "495  46.678128   704243.0776       1\n",
       "496  43.545007   483175.9998       0\n",
       "497  46.476724   354919.1987       0\n",
       "498  50.903631   639789.9219       1\n",
       "499  38.590586   491310.0096       0\n",
       "\n",
       "[500 rows x 3 columns]"
      ]
     },
     "execution_count": 7,
     "metadata": {},
     "output_type": "execute_result"
    }
   ],
   "source": [
    "bank_df = bank_df.drop(['Customer ID'], axis =1)\n",
    "bank_df"
   ]
  },
  {
   "cell_type": "markdown",
   "id": "efc2da53",
   "metadata": {
    "papermill": {
     "duration": 0.022386,
     "end_time": "2021-11-22T15:15:18.840422",
     "exception": false,
     "start_time": "2021-11-22T15:15:18.818036",
     "status": "completed"
    },
    "tags": []
   },
   "source": [
    "**Now dropping the Retire column as it is not the input**"
   ]
  },
  {
   "cell_type": "code",
   "execution_count": 8,
   "id": "e578941b",
   "metadata": {
    "execution": {
     "iopub.execute_input": "2021-11-22T15:15:18.888592Z",
     "iopub.status.busy": "2021-11-22T15:15:18.887943Z",
     "iopub.status.idle": "2021-11-22T15:15:18.900069Z",
     "shell.execute_reply": "2021-11-22T15:15:18.900684Z",
     "shell.execute_reply.started": "2021-11-22T15:12:23.652828Z"
    },
    "papermill": {
     "duration": 0.03761,
     "end_time": "2021-11-22T15:15:18.900891",
     "exception": false,
     "start_time": "2021-11-22T15:15:18.863281",
     "status": "completed"
    },
    "tags": []
   },
   "outputs": [
    {
     "data": {
      "text/html": [
       "<div>\n",
       "<style scoped>\n",
       "    .dataframe tbody tr th:only-of-type {\n",
       "        vertical-align: middle;\n",
       "    }\n",
       "\n",
       "    .dataframe tbody tr th {\n",
       "        vertical-align: top;\n",
       "    }\n",
       "\n",
       "    .dataframe thead th {\n",
       "        text-align: right;\n",
       "    }\n",
       "</style>\n",
       "<table border=\"1\" class=\"dataframe\">\n",
       "  <thead>\n",
       "    <tr style=\"text-align: right;\">\n",
       "      <th></th>\n",
       "      <th>Age</th>\n",
       "      <th>401K Savings</th>\n",
       "    </tr>\n",
       "  </thead>\n",
       "  <tbody>\n",
       "    <tr>\n",
       "      <th>0</th>\n",
       "      <td>39.180417</td>\n",
       "      <td>322349.8740</td>\n",
       "    </tr>\n",
       "    <tr>\n",
       "      <th>1</th>\n",
       "      <td>56.101686</td>\n",
       "      <td>768671.5740</td>\n",
       "    </tr>\n",
       "    <tr>\n",
       "      <th>2</th>\n",
       "      <td>57.023043</td>\n",
       "      <td>821505.4718</td>\n",
       "    </tr>\n",
       "    <tr>\n",
       "      <th>3</th>\n",
       "      <td>43.711358</td>\n",
       "      <td>494187.4850</td>\n",
       "    </tr>\n",
       "    <tr>\n",
       "      <th>4</th>\n",
       "      <td>54.728823</td>\n",
       "      <td>691435.7723</td>\n",
       "    </tr>\n",
       "    <tr>\n",
       "      <th>...</th>\n",
       "      <td>...</td>\n",
       "      <td>...</td>\n",
       "    </tr>\n",
       "    <tr>\n",
       "      <th>495</th>\n",
       "      <td>46.678128</td>\n",
       "      <td>704243.0776</td>\n",
       "    </tr>\n",
       "    <tr>\n",
       "      <th>496</th>\n",
       "      <td>43.545007</td>\n",
       "      <td>483175.9998</td>\n",
       "    </tr>\n",
       "    <tr>\n",
       "      <th>497</th>\n",
       "      <td>46.476724</td>\n",
       "      <td>354919.1987</td>\n",
       "    </tr>\n",
       "    <tr>\n",
       "      <th>498</th>\n",
       "      <td>50.903631</td>\n",
       "      <td>639789.9219</td>\n",
       "    </tr>\n",
       "    <tr>\n",
       "      <th>499</th>\n",
       "      <td>38.590586</td>\n",
       "      <td>491310.0096</td>\n",
       "    </tr>\n",
       "  </tbody>\n",
       "</table>\n",
       "<p>500 rows × 2 columns</p>\n",
       "</div>"
      ],
      "text/plain": [
       "           Age  401K Savings\n",
       "0    39.180417   322349.8740\n",
       "1    56.101686   768671.5740\n",
       "2    57.023043   821505.4718\n",
       "3    43.711358   494187.4850\n",
       "4    54.728823   691435.7723\n",
       "..         ...           ...\n",
       "495  46.678128   704243.0776\n",
       "496  43.545007   483175.9998\n",
       "497  46.476724   354919.1987\n",
       "498  50.903631   639789.9219\n",
       "499  38.590586   491310.0096\n",
       "\n",
       "[500 rows x 2 columns]"
      ]
     },
     "execution_count": 8,
     "metadata": {},
     "output_type": "execute_result"
    }
   ],
   "source": [
    "X =bank_df.drop(['Retire'], axis = 1)\n",
    "X"
   ]
  },
  {
   "cell_type": "code",
   "execution_count": 9,
   "id": "4effac9d",
   "metadata": {
    "execution": {
     "iopub.execute_input": "2021-11-22T15:15:18.952996Z",
     "iopub.status.busy": "2021-11-22T15:15:18.952306Z",
     "iopub.status.idle": "2021-11-22T15:15:18.955695Z",
     "shell.execute_reply": "2021-11-22T15:15:18.956274Z",
     "shell.execute_reply.started": "2021-11-22T15:12:23.673075Z"
    },
    "papermill": {
     "duration": 0.033418,
     "end_time": "2021-11-22T15:15:18.956478",
     "exception": false,
     "start_time": "2021-11-22T15:15:18.923060",
     "status": "completed"
    },
    "tags": []
   },
   "outputs": [
    {
     "data": {
      "text/plain": [
       "0      0\n",
       "1      1\n",
       "2      1\n",
       "3      0\n",
       "4      1\n",
       "      ..\n",
       "495    1\n",
       "496    0\n",
       "497    0\n",
       "498    1\n",
       "499    0\n",
       "Name: Retire, Length: 500, dtype: int64"
      ]
     },
     "execution_count": 9,
     "metadata": {},
     "output_type": "execute_result"
    }
   ],
   "source": [
    "y = bank_df['Retire']\n",
    "y"
   ]
  },
  {
   "cell_type": "code",
   "execution_count": 10,
   "id": "0d7a36e0",
   "metadata": {
    "execution": {
     "iopub.execute_input": "2021-11-22T15:15:19.008313Z",
     "iopub.status.busy": "2021-11-22T15:15:19.007545Z",
     "iopub.status.idle": "2021-11-22T15:15:19.196815Z",
     "shell.execute_reply": "2021-11-22T15:15:19.197453Z",
     "shell.execute_reply.started": "2021-11-22T15:12:23.683770Z"
    },
    "papermill": {
     "duration": 0.217679,
     "end_time": "2021-11-22T15:15:19.197697",
     "exception": false,
     "start_time": "2021-11-22T15:15:18.980018",
     "status": "completed"
    },
    "tags": []
   },
   "outputs": [],
   "source": [
    "from sklearn.model_selection import  train_test_split\n",
    "X_train,X_test,y_train, y_test =train_test_split(X,y, test_size= 0.2, random_state= 5)\n"
   ]
  },
  {
   "cell_type": "markdown",
   "id": "07dd6440",
   "metadata": {
    "papermill": {
     "duration": 0.022048,
     "end_time": "2021-11-22T15:15:19.242721",
     "exception": false,
     "start_time": "2021-11-22T15:15:19.220673",
     "status": "completed"
    },
    "tags": []
   },
   "source": [
    "**Evaluating the model**"
   ]
  },
  {
   "cell_type": "code",
   "execution_count": 11,
   "id": "2933a7ae",
   "metadata": {
    "execution": {
     "iopub.execute_input": "2021-11-22T15:15:19.292144Z",
     "iopub.status.busy": "2021-11-22T15:15:19.291377Z",
     "iopub.status.idle": "2021-11-22T15:15:19.398474Z",
     "shell.execute_reply": "2021-11-22T15:15:19.397090Z",
     "shell.execute_reply.started": "2021-11-22T15:12:23.855961Z"
    },
    "papermill": {
     "duration": 0.132933,
     "end_time": "2021-11-22T15:15:19.398703",
     "exception": false,
     "start_time": "2021-11-22T15:15:19.265770",
     "status": "completed"
    },
    "tags": []
   },
   "outputs": [
    {
     "data": {
      "text/plain": [
       "SVC()"
      ]
     },
     "execution_count": 11,
     "metadata": {},
     "output_type": "execute_result"
    }
   ],
   "source": [
    "from sklearn.svm import SVC\n",
    "from sklearn.metrics  import classification_report, confusion_matrix\n",
    "svc_model = SVC()\n",
    "svc_model.fit(X_train, y_train)\n"
   ]
  },
  {
   "cell_type": "code",
   "execution_count": 12,
   "id": "6606ab62",
   "metadata": {
    "execution": {
     "iopub.execute_input": "2021-11-22T15:15:19.453858Z",
     "iopub.status.busy": "2021-11-22T15:15:19.452586Z",
     "iopub.status.idle": "2021-11-22T15:15:19.464870Z",
     "shell.execute_reply": "2021-11-22T15:15:19.465442Z",
     "shell.execute_reply.started": "2021-11-22T15:12:23.953796Z"
    },
    "papermill": {
     "duration": 0.043379,
     "end_time": "2021-11-22T15:15:19.465666",
     "exception": false,
     "start_time": "2021-11-22T15:15:19.422287",
     "status": "completed"
    },
    "tags": []
   },
   "outputs": [
    {
     "name": "stdout",
     "output_type": "stream",
     "text": [
      "              precision    recall  f1-score   support\n",
      "\n",
      "           0       0.87      0.91      0.89        43\n",
      "           1       0.93      0.89      0.91        57\n",
      "\n",
      "    accuracy                           0.90       100\n",
      "   macro avg       0.90      0.90      0.90       100\n",
      "weighted avg       0.90      0.90      0.90       100\n",
      "\n"
     ]
    }
   ],
   "source": [
    "y_predict =svc_model.predict(X_test)\n",
    "cm = confusion_matrix(y_test,y_predict)\n",
    "print(classification_report(y_test,y_predict))"
   ]
  },
  {
   "cell_type": "markdown",
   "id": "b48777cd",
   "metadata": {
    "papermill": {
     "duration": 0.022932,
     "end_time": "2021-11-22T15:15:19.512088",
     "exception": false,
     "start_time": "2021-11-22T15:15:19.489156",
     "status": "completed"
    },
    "tags": []
   },
   "source": []
  },
  {
   "cell_type": "code",
   "execution_count": 13,
   "id": "99a6d116",
   "metadata": {
    "execution": {
     "iopub.execute_input": "2021-11-22T15:15:19.567570Z",
     "iopub.status.busy": "2021-11-22T15:15:19.566870Z",
     "iopub.status.idle": "2021-11-22T15:15:19.816708Z",
     "shell.execute_reply": "2021-11-22T15:15:19.816039Z",
     "shell.execute_reply.started": "2021-11-22T15:12:23.970519Z"
    },
    "papermill": {
     "duration": 0.281163,
     "end_time": "2021-11-22T15:15:19.816899",
     "exception": false,
     "start_time": "2021-11-22T15:15:19.535736",
     "status": "completed"
    },
    "tags": []
   },
   "outputs": [
    {
     "data": {
      "text/plain": [
       "<AxesSubplot:>"
      ]
     },
     "execution_count": 13,
     "metadata": {},
     "output_type": "execute_result"
    },
    {
     "data": {
      "image/png": "[encoded data removed]",
      "text/plain": [
       "<Figure size 432x288 with 2 Axes>"
      ]
     },
     "metadata": {
      "needs_background": "light"
     },
     "output_type": "display_data"
    }
   ],
   "source": [
    "y_predict= svc_model.predict(X_test)\n",
    "y_predict\n",
    "cm= confusion_matrix(y_test, y_predict)\n",
    "sns.heatmap(cm, annot= True)"
   ]
  },
  {
   "cell_type": "markdown",
   "id": "fc71b7df",
   "metadata": {
    "papermill": {
     "duration": 0.02372,
     "end_time": "2021-11-22T15:15:19.864709",
     "exception": false,
     "start_time": "2021-11-22T15:15:19.840989",
     "status": "completed"
    },
    "tags": []
   },
   "source": [
    "**Accuracy is about 90%**"
   ]
  },
  {
   "cell_type": "code",
   "execution_count": 14,
   "id": "a77570e6",
   "metadata": {
    "execution": {
     "iopub.execute_input": "2021-11-22T15:15:19.918493Z",
     "iopub.status.busy": "2021-11-22T15:15:19.917743Z",
     "iopub.status.idle": "2021-11-22T15:15:19.923307Z",
     "shell.execute_reply": "2021-11-22T15:15:19.923820Z",
     "shell.execute_reply.started": "2021-11-22T15:12:24.172719Z"
    },
    "papermill": {
     "duration": 0.035145,
     "end_time": "2021-11-22T15:15:19.924054",
     "exception": false,
     "start_time": "2021-11-22T15:15:19.888909",
     "status": "completed"
    },
    "tags": []
   },
   "outputs": [
    {
     "data": {
      "text/plain": [
       "0.9"
      ]
     },
     "execution_count": 14,
     "metadata": {},
     "output_type": "execute_result"
    }
   ],
   "source": [
    "import sklearn\n",
    "accuracy = sklearn.metrics.accuracy_score(y_test, y_predict)\n",
    "accuracy"
   ]
  }
 ],
 "metadata": {
  "kernelspec": {
   "display_name": "Python 3",
   "language": "python",
   "name": "python3"
  },
  "language_info": {
   "codemirror_mode": {
    "name": "ipython",
    "version": 3
   },
   "file_extension": ".py",
   "mimetype": "text/x-python",
   "name": "python",
   "nbconvert_exporter": "python",
   "pygments_lexer": "ipython3",
   "version": "3.7.10"
  },
  "papermill": {
   "default_parameters": {},
   "duration": 15.319298,
   "end_time": "2021-11-22T15:15:20.763006",
   "environment_variables": {},
   "exception": null,
   "input_path": "__notebook__.ipynb",
   "output_path": "__notebook__.ipynb",
   "parameters": {},
   "start_time": "2021-11-22T15:15:05.443708",
   "version": "2.3.3"
  }
 },
 "nbformat": 4,
 "nbformat_minor": 5
}
